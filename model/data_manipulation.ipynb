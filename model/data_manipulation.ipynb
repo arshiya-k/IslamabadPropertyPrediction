{
 "cells": [
  {
   "cell_type": "code",
   "execution_count": 95,
   "metadata": {},
   "outputs": [],
   "source": [
    "import pandas as pd\n",
    "import numpy as np\n",
    "from matplotlib import pyplot as plt\n",
    "%matplotlib inline\n",
    "import matplotlib\n",
    "matplotlib.rcParams['figure.figsize'] = (20,10)\n",
    "from scipy import stats"
   ]
  },
  {
   "cell_type": "code",
   "execution_count": 96,
   "metadata": {},
   "outputs": [
    {
     "data": {
      "text/html": [
       "<div>\n",
       "<style scoped>\n",
       "    .dataframe tbody tr th:only-of-type {\n",
       "        vertical-align: middle;\n",
       "    }\n",
       "\n",
       "    .dataframe tbody tr th {\n",
       "        vertical-align: top;\n",
       "    }\n",
       "\n",
       "    .dataframe thead th {\n",
       "        text-align: right;\n",
       "    }\n",
       "</style>\n",
       "<table border=\"1\" class=\"dataframe\">\n",
       "  <thead>\n",
       "    <tr style=\"text-align: right;\">\n",
       "      <th></th>\n",
       "      <th>price</th>\n",
       "      <th>location</th>\n",
       "      <th>baths</th>\n",
       "      <th>bedrooms</th>\n",
       "      <th>Total_Area</th>\n",
       "    </tr>\n",
       "  </thead>\n",
       "  <tbody>\n",
       "    <tr>\n",
       "      <th>2</th>\n",
       "      <td>165.0</td>\n",
       "      <td>G-15</td>\n",
       "      <td>6</td>\n",
       "      <td>5</td>\n",
       "      <td>2178.008</td>\n",
       "    </tr>\n",
       "    <tr>\n",
       "      <th>3</th>\n",
       "      <td>435.0</td>\n",
       "      <td>Bani Gala</td>\n",
       "      <td>4</td>\n",
       "      <td>4</td>\n",
       "      <td>10890.000</td>\n",
       "    </tr>\n",
       "    <tr>\n",
       "      <th>4</th>\n",
       "      <td>70.0</td>\n",
       "      <td>DHA Defence</td>\n",
       "      <td>3</td>\n",
       "      <td>3</td>\n",
       "      <td>2178.008</td>\n",
       "    </tr>\n",
       "    <tr>\n",
       "      <th>5</th>\n",
       "      <td>345.0</td>\n",
       "      <td>Ghauri Town</td>\n",
       "      <td>8</td>\n",
       "      <td>8</td>\n",
       "      <td>87120.000</td>\n",
       "    </tr>\n",
       "    <tr>\n",
       "      <th>6</th>\n",
       "      <td>270.0</td>\n",
       "      <td>Korang Town</td>\n",
       "      <td>8</td>\n",
       "      <td>8</td>\n",
       "      <td>5445.000</td>\n",
       "    </tr>\n",
       "  </tbody>\n",
       "</table>\n",
       "</div>"
      ],
      "text/plain": [
       "   price     location  baths  bedrooms  Total_Area\n",
       "2  165.0         G-15      6         5    2178.008\n",
       "3  435.0    Bani Gala      4         4   10890.000\n",
       "4   70.0  DHA Defence      3         3    2178.008\n",
       "5  345.0  Ghauri Town      8         8   87120.000\n",
       "6  270.0  Korang Town      8         8    5445.000"
      ]
     },
     "execution_count": 96,
     "metadata": {},
     "output_type": "execute_result"
    }
   ],
   "source": [
    "df1 = pd.read_csv(\"data\\isb_data.csv\",index_col=0)\n",
    "df1.head()"
   ]
  },
  {
   "cell_type": "code",
   "execution_count": 97,
   "metadata": {},
   "outputs": [
    {
     "data": {
      "text/html": [
       "<div>\n",
       "<style scoped>\n",
       "    .dataframe tbody tr th:only-of-type {\n",
       "        vertical-align: middle;\n",
       "    }\n",
       "\n",
       "    .dataframe tbody tr th {\n",
       "        vertical-align: top;\n",
       "    }\n",
       "\n",
       "    .dataframe thead th {\n",
       "        text-align: right;\n",
       "    }\n",
       "</style>\n",
       "<table border=\"1\" class=\"dataframe\">\n",
       "  <thead>\n",
       "    <tr style=\"text-align: right;\">\n",
       "      <th></th>\n",
       "      <th>price</th>\n",
       "      <th>location</th>\n",
       "      <th>baths</th>\n",
       "      <th>bedrooms</th>\n",
       "      <th>Total_Area</th>\n",
       "      <th>price_per_sqft</th>\n",
       "    </tr>\n",
       "  </thead>\n",
       "  <tbody>\n",
       "    <tr>\n",
       "      <th>2</th>\n",
       "      <td>165.0</td>\n",
       "      <td>G-15</td>\n",
       "      <td>6</td>\n",
       "      <td>5</td>\n",
       "      <td>2178.008</td>\n",
       "      <td>0.075757</td>\n",
       "    </tr>\n",
       "    <tr>\n",
       "      <th>3</th>\n",
       "      <td>435.0</td>\n",
       "      <td>Bani Gala</td>\n",
       "      <td>4</td>\n",
       "      <td>4</td>\n",
       "      <td>10890.000</td>\n",
       "      <td>0.039945</td>\n",
       "    </tr>\n",
       "    <tr>\n",
       "      <th>4</th>\n",
       "      <td>70.0</td>\n",
       "      <td>DHA Defence</td>\n",
       "      <td>3</td>\n",
       "      <td>3</td>\n",
       "      <td>2178.008</td>\n",
       "      <td>0.032139</td>\n",
       "    </tr>\n",
       "    <tr>\n",
       "      <th>5</th>\n",
       "      <td>345.0</td>\n",
       "      <td>Ghauri Town</td>\n",
       "      <td>8</td>\n",
       "      <td>8</td>\n",
       "      <td>87120.000</td>\n",
       "      <td>0.003960</td>\n",
       "    </tr>\n",
       "    <tr>\n",
       "      <th>6</th>\n",
       "      <td>270.0</td>\n",
       "      <td>Korang Town</td>\n",
       "      <td>8</td>\n",
       "      <td>8</td>\n",
       "      <td>5445.000</td>\n",
       "      <td>0.049587</td>\n",
       "    </tr>\n",
       "    <tr>\n",
       "      <th>...</th>\n",
       "      <td>...</td>\n",
       "      <td>...</td>\n",
       "      <td>...</td>\n",
       "      <td>...</td>\n",
       "      <td>...</td>\n",
       "      <td>...</td>\n",
       "    </tr>\n",
       "    <tr>\n",
       "      <th>168306</th>\n",
       "      <td>127.0</td>\n",
       "      <td>Soan Garden</td>\n",
       "      <td>3</td>\n",
       "      <td>3</td>\n",
       "      <td>2722.510</td>\n",
       "      <td>0.046648</td>\n",
       "    </tr>\n",
       "    <tr>\n",
       "      <th>168307</th>\n",
       "      <td>270.0</td>\n",
       "      <td>G-13</td>\n",
       "      <td>4</td>\n",
       "      <td>4</td>\n",
       "      <td>1905.757</td>\n",
       "      <td>0.141676</td>\n",
       "    </tr>\n",
       "    <tr>\n",
       "      <th>168308</th>\n",
       "      <td>90.0</td>\n",
       "      <td>Soan Garden</td>\n",
       "      <td>3</td>\n",
       "      <td>2</td>\n",
       "      <td>1633.506</td>\n",
       "      <td>0.055096</td>\n",
       "    </tr>\n",
       "    <tr>\n",
       "      <th>168309</th>\n",
       "      <td>140.0</td>\n",
       "      <td>F-7</td>\n",
       "      <td>7</td>\n",
       "      <td>7</td>\n",
       "      <td>5445.000</td>\n",
       "      <td>0.025712</td>\n",
       "    </tr>\n",
       "    <tr>\n",
       "      <th>168312</th>\n",
       "      <td>1.0</td>\n",
       "      <td>D-12</td>\n",
       "      <td>6</td>\n",
       "      <td>6</td>\n",
       "      <td>38659.642</td>\n",
       "      <td>0.000026</td>\n",
       "    </tr>\n",
       "  </tbody>\n",
       "</table>\n",
       "<p>11870 rows × 6 columns</p>\n",
       "</div>"
      ],
      "text/plain": [
       "        price     location  baths  bedrooms  Total_Area  price_per_sqft\n",
       "2       165.0         G-15      6         5    2178.008        0.075757\n",
       "3       435.0    Bani Gala      4         4   10890.000        0.039945\n",
       "4        70.0  DHA Defence      3         3    2178.008        0.032139\n",
       "5       345.0  Ghauri Town      8         8   87120.000        0.003960\n",
       "6       270.0  Korang Town      8         8    5445.000        0.049587\n",
       "...       ...          ...    ...       ...         ...             ...\n",
       "168306  127.0  Soan Garden      3         3    2722.510        0.046648\n",
       "168307  270.0         G-13      4         4    1905.757        0.141676\n",
       "168308   90.0  Soan Garden      3         2    1633.506        0.055096\n",
       "168309  140.0          F-7      7         7    5445.000        0.025712\n",
       "168312    1.0         D-12      6         6   38659.642        0.000026\n",
       "\n",
       "[11870 rows x 6 columns]"
      ]
     },
     "execution_count": 97,
     "metadata": {},
     "output_type": "execute_result"
    }
   ],
   "source": [
    "df2 = df1.copy()\n",
    "df2['price_per_sqft'] = df2['price']/df2['Total_Area']\n",
    "df2"
   ]
  },
  {
   "cell_type": "code",
   "execution_count": 98,
   "metadata": {},
   "outputs": [
    {
     "data": {
      "text/plain": [
       "175"
      ]
     },
     "execution_count": 98,
     "metadata": {},
     "output_type": "execute_result"
    }
   ],
   "source": [
    "len(df2.location.unique())"
   ]
  },
  {
   "cell_type": "code",
   "execution_count": 99,
   "metadata": {},
   "outputs": [],
   "source": [
    "df2.location = df2.location.apply(lambda x: x.strip())"
   ]
  },
  {
   "cell_type": "code",
   "execution_count": 100,
   "metadata": {},
   "outputs": [
    {
     "data": {
      "text/plain": [
       "price             0\n",
       "location          0\n",
       "baths             0\n",
       "bedrooms          0\n",
       "Total_Area        0\n",
       "price_per_sqft    0\n",
       "dtype: int64"
      ]
     },
     "execution_count": 100,
     "metadata": {},
     "output_type": "execute_result"
    }
   ],
   "source": [
    "df2.isnull().sum()"
   ]
  },
  {
   "cell_type": "code",
   "execution_count": 101,
   "metadata": {},
   "outputs": [
    {
     "data": {
      "text/plain": [
       "count    1.187000e+04\n",
       "mean     4.214460e+04\n",
       "std      3.109849e+06\n",
       "min      0.000000e+00\n",
       "25%      1.633506e+03\n",
       "50%      2.722510e+03\n",
       "75%      1.089000e+04\n",
       "max      3.387988e+08\n",
       "Name: Total_Area, dtype: float64"
      ]
     },
     "execution_count": 101,
     "metadata": {},
     "output_type": "execute_result"
    }
   ],
   "source": [
    "df2.Total_Area.describe()"
   ]
  },
  {
   "cell_type": "code",
   "execution_count": 102,
   "metadata": {},
   "outputs": [
    {
     "data": {
      "text/plain": [
       "count    7389.000000\n",
       "mean        0.070191\n",
       "std         0.045742\n",
       "min         0.000020\n",
       "25%         0.034107\n",
       "50%         0.062442\n",
       "75%         0.091827\n",
       "max         0.459135\n",
       "Name: price_per_sqft, dtype: float64"
      ]
     },
     "execution_count": 102,
     "metadata": {},
     "output_type": "execute_result"
    }
   ],
   "source": [
    "def removeOutliersPricePerArea(df):\n",
    "    df_out = pd.DataFrame()\n",
    "    for key, subdf in df.groupby('location'):\n",
    "        m = np.mean(subdf.price_per_sqft)\n",
    "        st = np.std(subdf.price_per_sqft)\n",
    "        reduced_df = subdf[(subdf.price_per_sqft>(m-st))&(subdf.price_per_sqft<=(m+st))]\n",
    "        df_out = pd.concat([df_out, reduced_df], ignore_index=True)\n",
    "    return df_out\n",
    "\n",
    "df3 = removeOutliersPricePerArea(df2)\n",
    "\n",
    "\n",
    "df3.price_per_sqft.describe()"
   ]
  },
  {
   "cell_type": "code",
   "execution_count": 103,
   "metadata": {},
   "outputs": [
    {
     "data": {
      "text/html": [
       "<div>\n",
       "<style scoped>\n",
       "    .dataframe tbody tr th:only-of-type {\n",
       "        vertical-align: middle;\n",
       "    }\n",
       "\n",
       "    .dataframe tbody tr th {\n",
       "        vertical-align: top;\n",
       "    }\n",
       "\n",
       "    .dataframe thead th {\n",
       "        text-align: right;\n",
       "    }\n",
       "</style>\n",
       "<table border=\"1\" class=\"dataframe\">\n",
       "  <thead>\n",
       "    <tr style=\"text-align: right;\">\n",
       "      <th></th>\n",
       "      <th>price</th>\n",
       "      <th>location</th>\n",
       "      <th>baths</th>\n",
       "      <th>bedrooms</th>\n",
       "      <th>Total_Area</th>\n",
       "      <th>price_per_sqft</th>\n",
       "    </tr>\n",
       "  </thead>\n",
       "  <tbody>\n",
       "    <tr>\n",
       "      <th>1</th>\n",
       "      <td>1150.0</td>\n",
       "      <td>7th Avenue</td>\n",
       "      <td>0</td>\n",
       "      <td>0</td>\n",
       "      <td>70785.000</td>\n",
       "      <td>0.016246</td>\n",
       "    </tr>\n",
       "    <tr>\n",
       "      <th>2</th>\n",
       "      <td>425.0</td>\n",
       "      <td>9th Avenue</td>\n",
       "      <td>5</td>\n",
       "      <td>5</td>\n",
       "      <td>3267.012</td>\n",
       "      <td>0.130088</td>\n",
       "    </tr>\n",
       "    <tr>\n",
       "      <th>3</th>\n",
       "      <td>220.0</td>\n",
       "      <td>9th Avenue</td>\n",
       "      <td>3</td>\n",
       "      <td>3</td>\n",
       "      <td>1905.757</td>\n",
       "      <td>0.115440</td>\n",
       "    </tr>\n",
       "    <tr>\n",
       "      <th>4</th>\n",
       "      <td>250.0</td>\n",
       "      <td>AGHOSH</td>\n",
       "      <td>10</td>\n",
       "      <td>10</td>\n",
       "      <td>5445.000</td>\n",
       "      <td>0.045914</td>\n",
       "    </tr>\n",
       "    <tr>\n",
       "      <th>6</th>\n",
       "      <td>125.0</td>\n",
       "      <td>Abdullah Garden</td>\n",
       "      <td>4</td>\n",
       "      <td>3</td>\n",
       "      <td>1361.255</td>\n",
       "      <td>0.091827</td>\n",
       "    </tr>\n",
       "    <tr>\n",
       "      <th>...</th>\n",
       "      <td>...</td>\n",
       "      <td>...</td>\n",
       "      <td>...</td>\n",
       "      <td>...</td>\n",
       "      <td>...</td>\n",
       "      <td>...</td>\n",
       "    </tr>\n",
       "    <tr>\n",
       "      <th>7384</th>\n",
       "      <td>260.0</td>\n",
       "      <td>Zaraj Housing Scheme</td>\n",
       "      <td>7</td>\n",
       "      <td>6</td>\n",
       "      <td>3811.514</td>\n",
       "      <td>0.068214</td>\n",
       "    </tr>\n",
       "    <tr>\n",
       "      <th>7385</th>\n",
       "      <td>180.0</td>\n",
       "      <td>Zaraj Housing Scheme</td>\n",
       "      <td>6</td>\n",
       "      <td>6</td>\n",
       "      <td>3811.514</td>\n",
       "      <td>0.047225</td>\n",
       "    </tr>\n",
       "    <tr>\n",
       "      <th>7386</th>\n",
       "      <td>125.0</td>\n",
       "      <td>Zaraj Housing Scheme</td>\n",
       "      <td>0</td>\n",
       "      <td>0</td>\n",
       "      <td>2722.510</td>\n",
       "      <td>0.045914</td>\n",
       "    </tr>\n",
       "    <tr>\n",
       "      <th>7387</th>\n",
       "      <td>240.0</td>\n",
       "      <td>Zaraj Housing Scheme</td>\n",
       "      <td>7</td>\n",
       "      <td>6</td>\n",
       "      <td>3267.012</td>\n",
       "      <td>0.073462</td>\n",
       "    </tr>\n",
       "    <tr>\n",
       "      <th>7388</th>\n",
       "      <td>200.0</td>\n",
       "      <td>Zone 5</td>\n",
       "      <td>5</td>\n",
       "      <td>5</td>\n",
       "      <td>5445.000</td>\n",
       "      <td>0.036731</td>\n",
       "    </tr>\n",
       "  </tbody>\n",
       "</table>\n",
       "<p>6965 rows × 6 columns</p>\n",
       "</div>"
      ],
      "text/plain": [
       "       price              location  baths  bedrooms  Total_Area  \\\n",
       "1     1150.0            7th Avenue      0         0   70785.000   \n",
       "2      425.0            9th Avenue      5         5    3267.012   \n",
       "3      220.0            9th Avenue      3         3    1905.757   \n",
       "4      250.0                AGHOSH     10        10    5445.000   \n",
       "6      125.0       Abdullah Garden      4         3    1361.255   \n",
       "...      ...                   ...    ...       ...         ...   \n",
       "7384   260.0  Zaraj Housing Scheme      7         6    3811.514   \n",
       "7385   180.0  Zaraj Housing Scheme      6         6    3811.514   \n",
       "7386   125.0  Zaraj Housing Scheme      0         0    2722.510   \n",
       "7387   240.0  Zaraj Housing Scheme      7         6    3267.012   \n",
       "7388   200.0                Zone 5      5         5    5445.000   \n",
       "\n",
       "      price_per_sqft  \n",
       "1           0.016246  \n",
       "2           0.130088  \n",
       "3           0.115440  \n",
       "4           0.045914  \n",
       "6           0.091827  \n",
       "...              ...  \n",
       "7384        0.068214  \n",
       "7385        0.047225  \n",
       "7386        0.045914  \n",
       "7387        0.073462  \n",
       "7388        0.036731  \n",
       "\n",
       "[6965 rows x 6 columns]"
      ]
     },
     "execution_count": 103,
     "metadata": {},
     "output_type": "execute_result"
    }
   ],
   "source": [
    "df4 = df3[df3.baths<df3.bedrooms+2]\n",
    "df4"
   ]
  },
  {
   "cell_type": "code",
   "execution_count": 104,
   "metadata": {},
   "outputs": [],
   "source": [
    "df5 = df4[df4.baths != 0]"
   ]
  },
  {
   "cell_type": "code",
   "execution_count": 105,
   "metadata": {},
   "outputs": [],
   "source": [
    "df6 = df5[df5.bedrooms != 0]"
   ]
  },
  {
   "cell_type": "code",
   "execution_count": 106,
   "metadata": {},
   "outputs": [
    {
     "data": {
      "text/plain": [
       "Text(0, 0.5, 'Count')"
      ]
     },
     "execution_count": 106,
     "metadata": {},
     "output_type": "execute_result"
    },
    {
     "data": {
      "image/png": "[encoded data removed]",
      "text/plain": [
       "<Figure size 1440x720 with 1 Axes>"
      ]
     },
     "metadata": {
      "needs_background": "light"
     },
     "output_type": "display_data"
    }
   ],
   "source": [
    "import matplotlib\n",
    "matplotlib.rcParams[\"figure.figsize\"] = (20,10)\n",
    "plt.hist(df3.price_per_sqft,rwidth=0.8)\n",
    "plt.xlabel(\"Price Per Square Feet\")\n",
    "plt.ylabel(\"Count\")"
   ]
  },
  {
   "cell_type": "code",
   "execution_count": 107,
   "metadata": {},
   "outputs": [],
   "source": [
    "df6.location = df6.location.apply(lambda x: x.strip())\n",
    "location_stats = df6.groupby('location')['location'].agg('count').sort_values(ascending=False)"
   ]
  },
  {
   "cell_type": "code",
   "execution_count": 108,
   "metadata": {},
   "outputs": [
    {
     "data": {
      "text/plain": [
       "75"
      ]
     },
     "execution_count": 108,
     "metadata": {},
     "output_type": "execute_result"
    }
   ],
   "source": [
    "location_stats_less_than_10 = location_stats[location_stats<=5]\n",
    "df6.location = df3.location.apply(lambda x: 'other' if x in location_stats_less_than_10 else x)\n",
    "len(df6.location.unique())"
   ]
  },
  {
   "cell_type": "code",
   "execution_count": 109,
   "metadata": {},
   "outputs": [
    {
     "data": {
      "text/html": [
       "<div>\n",
       "<style scoped>\n",
       "    .dataframe tbody tr th:only-of-type {\n",
       "        vertical-align: middle;\n",
       "    }\n",
       "\n",
       "    .dataframe tbody tr th {\n",
       "        vertical-align: top;\n",
       "    }\n",
       "\n",
       "    .dataframe thead th {\n",
       "        text-align: right;\n",
       "    }\n",
       "</style>\n",
       "<table border=\"1\" class=\"dataframe\">\n",
       "  <thead>\n",
       "    <tr style=\"text-align: right;\">\n",
       "      <th></th>\n",
       "      <th>Abdullah Garden</th>\n",
       "      <th>Ali Pur</th>\n",
       "      <th>Alipur Farash</th>\n",
       "      <th>Arsalan Town</th>\n",
       "      <th>B-17</th>\n",
       "      <th>Bani Gala</th>\n",
       "      <th>Bhara kahu</th>\n",
       "      <th>Burma Town</th>\n",
       "      <th>CBR Town</th>\n",
       "      <th>Chatha Bakhtawar</th>\n",
       "      <th>...</th>\n",
       "      <th>Shaheen Town</th>\n",
       "      <th>Simly Dam Road</th>\n",
       "      <th>Soan Garden</th>\n",
       "      <th>Swan Garden</th>\n",
       "      <th>Taramrri</th>\n",
       "      <th>Tarlai</th>\n",
       "      <th>Tarnol</th>\n",
       "      <th>Thanda Pani</th>\n",
       "      <th>Zaraj Housing Scheme</th>\n",
       "      <th>other</th>\n",
       "    </tr>\n",
       "  </thead>\n",
       "  <tbody>\n",
       "    <tr>\n",
       "      <th>2</th>\n",
       "      <td>0</td>\n",
       "      <td>0</td>\n",
       "      <td>0</td>\n",
       "      <td>0</td>\n",
       "      <td>0</td>\n",
       "      <td>0</td>\n",
       "      <td>0</td>\n",
       "      <td>0</td>\n",
       "      <td>0</td>\n",
       "      <td>0</td>\n",
       "      <td>...</td>\n",
       "      <td>0</td>\n",
       "      <td>0</td>\n",
       "      <td>0</td>\n",
       "      <td>0</td>\n",
       "      <td>0</td>\n",
       "      <td>0</td>\n",
       "      <td>0</td>\n",
       "      <td>0</td>\n",
       "      <td>0</td>\n",
       "      <td>1</td>\n",
       "    </tr>\n",
       "    <tr>\n",
       "      <th>3</th>\n",
       "      <td>0</td>\n",
       "      <td>0</td>\n",
       "      <td>0</td>\n",
       "      <td>0</td>\n",
       "      <td>0</td>\n",
       "      <td>0</td>\n",
       "      <td>0</td>\n",
       "      <td>0</td>\n",
       "      <td>0</td>\n",
       "      <td>0</td>\n",
       "      <td>...</td>\n",
       "      <td>0</td>\n",
       "      <td>0</td>\n",
       "      <td>0</td>\n",
       "      <td>0</td>\n",
       "      <td>0</td>\n",
       "      <td>0</td>\n",
       "      <td>0</td>\n",
       "      <td>0</td>\n",
       "      <td>0</td>\n",
       "      <td>1</td>\n",
       "    </tr>\n",
       "    <tr>\n",
       "      <th>4</th>\n",
       "      <td>0</td>\n",
       "      <td>0</td>\n",
       "      <td>0</td>\n",
       "      <td>0</td>\n",
       "      <td>0</td>\n",
       "      <td>0</td>\n",
       "      <td>0</td>\n",
       "      <td>0</td>\n",
       "      <td>0</td>\n",
       "      <td>0</td>\n",
       "      <td>...</td>\n",
       "      <td>0</td>\n",
       "      <td>0</td>\n",
       "      <td>0</td>\n",
       "      <td>0</td>\n",
       "      <td>0</td>\n",
       "      <td>0</td>\n",
       "      <td>0</td>\n",
       "      <td>0</td>\n",
       "      <td>0</td>\n",
       "      <td>1</td>\n",
       "    </tr>\n",
       "    <tr>\n",
       "      <th>6</th>\n",
       "      <td>1</td>\n",
       "      <td>0</td>\n",
       "      <td>0</td>\n",
       "      <td>0</td>\n",
       "      <td>0</td>\n",
       "      <td>0</td>\n",
       "      <td>0</td>\n",
       "      <td>0</td>\n",
       "      <td>0</td>\n",
       "      <td>0</td>\n",
       "      <td>...</td>\n",
       "      <td>0</td>\n",
       "      <td>0</td>\n",
       "      <td>0</td>\n",
       "      <td>0</td>\n",
       "      <td>0</td>\n",
       "      <td>0</td>\n",
       "      <td>0</td>\n",
       "      <td>0</td>\n",
       "      <td>0</td>\n",
       "      <td>0</td>\n",
       "    </tr>\n",
       "    <tr>\n",
       "      <th>7</th>\n",
       "      <td>1</td>\n",
       "      <td>0</td>\n",
       "      <td>0</td>\n",
       "      <td>0</td>\n",
       "      <td>0</td>\n",
       "      <td>0</td>\n",
       "      <td>0</td>\n",
       "      <td>0</td>\n",
       "      <td>0</td>\n",
       "      <td>0</td>\n",
       "      <td>...</td>\n",
       "      <td>0</td>\n",
       "      <td>0</td>\n",
       "      <td>0</td>\n",
       "      <td>0</td>\n",
       "      <td>0</td>\n",
       "      <td>0</td>\n",
       "      <td>0</td>\n",
       "      <td>0</td>\n",
       "      <td>0</td>\n",
       "      <td>0</td>\n",
       "    </tr>\n",
       "    <tr>\n",
       "      <th>...</th>\n",
       "      <td>...</td>\n",
       "      <td>...</td>\n",
       "      <td>...</td>\n",
       "      <td>...</td>\n",
       "      <td>...</td>\n",
       "      <td>...</td>\n",
       "      <td>...</td>\n",
       "      <td>...</td>\n",
       "      <td>...</td>\n",
       "      <td>...</td>\n",
       "      <td>...</td>\n",
       "      <td>...</td>\n",
       "      <td>...</td>\n",
       "      <td>...</td>\n",
       "      <td>...</td>\n",
       "      <td>...</td>\n",
       "      <td>...</td>\n",
       "      <td>...</td>\n",
       "      <td>...</td>\n",
       "      <td>...</td>\n",
       "      <td>...</td>\n",
       "    </tr>\n",
       "    <tr>\n",
       "      <th>7381</th>\n",
       "      <td>0</td>\n",
       "      <td>0</td>\n",
       "      <td>0</td>\n",
       "      <td>0</td>\n",
       "      <td>0</td>\n",
       "      <td>0</td>\n",
       "      <td>0</td>\n",
       "      <td>0</td>\n",
       "      <td>0</td>\n",
       "      <td>0</td>\n",
       "      <td>...</td>\n",
       "      <td>0</td>\n",
       "      <td>0</td>\n",
       "      <td>0</td>\n",
       "      <td>0</td>\n",
       "      <td>0</td>\n",
       "      <td>0</td>\n",
       "      <td>0</td>\n",
       "      <td>0</td>\n",
       "      <td>1</td>\n",
       "      <td>0</td>\n",
       "    </tr>\n",
       "    <tr>\n",
       "      <th>7384</th>\n",
       "      <td>0</td>\n",
       "      <td>0</td>\n",
       "      <td>0</td>\n",
       "      <td>0</td>\n",
       "      <td>0</td>\n",
       "      <td>0</td>\n",
       "      <td>0</td>\n",
       "      <td>0</td>\n",
       "      <td>0</td>\n",
       "      <td>0</td>\n",
       "      <td>...</td>\n",
       "      <td>0</td>\n",
       "      <td>0</td>\n",
       "      <td>0</td>\n",
       "      <td>0</td>\n",
       "      <td>0</td>\n",
       "      <td>0</td>\n",
       "      <td>0</td>\n",
       "      <td>0</td>\n",
       "      <td>1</td>\n",
       "      <td>0</td>\n",
       "    </tr>\n",
       "    <tr>\n",
       "      <th>7385</th>\n",
       "      <td>0</td>\n",
       "      <td>0</td>\n",
       "      <td>0</td>\n",
       "      <td>0</td>\n",
       "      <td>0</td>\n",
       "      <td>0</td>\n",
       "      <td>0</td>\n",
       "      <td>0</td>\n",
       "      <td>0</td>\n",
       "      <td>0</td>\n",
       "      <td>...</td>\n",
       "      <td>0</td>\n",
       "      <td>0</td>\n",
       "      <td>0</td>\n",
       "      <td>0</td>\n",
       "      <td>0</td>\n",
       "      <td>0</td>\n",
       "      <td>0</td>\n",
       "      <td>0</td>\n",
       "      <td>1</td>\n",
       "      <td>0</td>\n",
       "    </tr>\n",
       "    <tr>\n",
       "      <th>7387</th>\n",
       "      <td>0</td>\n",
       "      <td>0</td>\n",
       "      <td>0</td>\n",
       "      <td>0</td>\n",
       "      <td>0</td>\n",
       "      <td>0</td>\n",
       "      <td>0</td>\n",
       "      <td>0</td>\n",
       "      <td>0</td>\n",
       "      <td>0</td>\n",
       "      <td>...</td>\n",
       "      <td>0</td>\n",
       "      <td>0</td>\n",
       "      <td>0</td>\n",
       "      <td>0</td>\n",
       "      <td>0</td>\n",
       "      <td>0</td>\n",
       "      <td>0</td>\n",
       "      <td>0</td>\n",
       "      <td>1</td>\n",
       "      <td>0</td>\n",
       "    </tr>\n",
       "    <tr>\n",
       "      <th>7388</th>\n",
       "      <td>0</td>\n",
       "      <td>0</td>\n",
       "      <td>0</td>\n",
       "      <td>0</td>\n",
       "      <td>0</td>\n",
       "      <td>0</td>\n",
       "      <td>0</td>\n",
       "      <td>0</td>\n",
       "      <td>0</td>\n",
       "      <td>0</td>\n",
       "      <td>...</td>\n",
       "      <td>0</td>\n",
       "      <td>0</td>\n",
       "      <td>0</td>\n",
       "      <td>0</td>\n",
       "      <td>0</td>\n",
       "      <td>0</td>\n",
       "      <td>0</td>\n",
       "      <td>0</td>\n",
       "      <td>0</td>\n",
       "      <td>1</td>\n",
       "    </tr>\n",
       "  </tbody>\n",
       "</table>\n",
       "<p>5183 rows × 75 columns</p>\n",
       "</div>"
      ],
      "text/plain": [
       "      Abdullah Garden  Ali Pur  Alipur Farash  Arsalan Town  B-17  Bani Gala  \\\n",
       "2                   0        0              0             0     0          0   \n",
       "3                   0        0              0             0     0          0   \n",
       "4                   0        0              0             0     0          0   \n",
       "6                   1        0              0             0     0          0   \n",
       "7                   1        0              0             0     0          0   \n",
       "...               ...      ...            ...           ...   ...        ...   \n",
       "7381                0        0              0             0     0          0   \n",
       "7384                0        0              0             0     0          0   \n",
       "7385                0        0              0             0     0          0   \n",
       "7387                0        0              0             0     0          0   \n",
       "7388                0        0              0             0     0          0   \n",
       "\n",
       "      Bhara kahu  Burma Town  CBR Town  Chatha Bakhtawar  ...  Shaheen Town  \\\n",
       "2              0           0         0                 0  ...             0   \n",
       "3              0           0         0                 0  ...             0   \n",
       "4              0           0         0                 0  ...             0   \n",
       "6              0           0         0                 0  ...             0   \n",
       "7              0           0         0                 0  ...             0   \n",
       "...          ...         ...       ...               ...  ...           ...   \n",
       "7381           0           0         0                 0  ...             0   \n",
       "7384           0           0         0                 0  ...             0   \n",
       "7385           0           0         0                 0  ...             0   \n",
       "7387           0           0         0                 0  ...             0   \n",
       "7388           0           0         0                 0  ...             0   \n",
       "\n",
       "      Simly Dam Road  Soan Garden  Swan Garden  Taramrri  Tarlai  Tarnol  \\\n",
       "2                  0            0            0         0       0       0   \n",
       "3                  0            0            0         0       0       0   \n",
       "4                  0            0            0         0       0       0   \n",
       "6                  0            0            0         0       0       0   \n",
       "7                  0            0            0         0       0       0   \n",
       "...              ...          ...          ...       ...     ...     ...   \n",
       "7381               0            0            0         0       0       0   \n",
       "7384               0            0            0         0       0       0   \n",
       "7385               0            0            0         0       0       0   \n",
       "7387               0            0            0         0       0       0   \n",
       "7388               0            0            0         0       0       0   \n",
       "\n",
       "      Thanda Pani  Zaraj Housing Scheme  other  \n",
       "2               0                     0      1  \n",
       "3               0                     0      1  \n",
       "4               0                     0      1  \n",
       "6               0                     0      0  \n",
       "7               0                     0      0  \n",
       "...           ...                   ...    ...  \n",
       "7381            0                     1      0  \n",
       "7384            0                     1      0  \n",
       "7385            0                     1      0  \n",
       "7387            0                     1      0  \n",
       "7388            0                     0      1  \n",
       "\n",
       "[5183 rows x 75 columns]"
      ]
     },
     "execution_count": 109,
     "metadata": {},
     "output_type": "execute_result"
    }
   ],
   "source": [
    "location_dummies = pd.get_dummies(df6.location)\n",
    "location_dummies"
   ]
  },
  {
   "cell_type": "code",
   "execution_count": 110,
   "metadata": {},
   "outputs": [
    {
     "data": {
      "text/html": [
       "<div>\n",
       "<style scoped>\n",
       "    .dataframe tbody tr th:only-of-type {\n",
       "        vertical-align: middle;\n",
       "    }\n",
       "\n",
       "    .dataframe tbody tr th {\n",
       "        vertical-align: top;\n",
       "    }\n",
       "\n",
       "    .dataframe thead th {\n",
       "        text-align: right;\n",
       "    }\n",
       "</style>\n",
       "<table border=\"1\" class=\"dataframe\">\n",
       "  <thead>\n",
       "    <tr style=\"text-align: right;\">\n",
       "      <th></th>\n",
       "      <th>price</th>\n",
       "      <th>location</th>\n",
       "      <th>baths</th>\n",
       "      <th>bedrooms</th>\n",
       "      <th>Total_Area</th>\n",
       "      <th>price_per_sqft</th>\n",
       "      <th>Abdullah Garden</th>\n",
       "      <th>Ali Pur</th>\n",
       "      <th>Alipur Farash</th>\n",
       "      <th>Arsalan Town</th>\n",
       "      <th>...</th>\n",
       "      <th>Shah Allah Ditta</th>\n",
       "      <th>Shaheen Town</th>\n",
       "      <th>Simly Dam Road</th>\n",
       "      <th>Soan Garden</th>\n",
       "      <th>Swan Garden</th>\n",
       "      <th>Taramrri</th>\n",
       "      <th>Tarlai</th>\n",
       "      <th>Tarnol</th>\n",
       "      <th>Thanda Pani</th>\n",
       "      <th>Zaraj Housing Scheme</th>\n",
       "    </tr>\n",
       "  </thead>\n",
       "  <tbody>\n",
       "    <tr>\n",
       "      <th>2</th>\n",
       "      <td>425.0</td>\n",
       "      <td>other</td>\n",
       "      <td>5</td>\n",
       "      <td>5</td>\n",
       "      <td>3267.012</td>\n",
       "      <td>0.130088</td>\n",
       "      <td>0</td>\n",
       "      <td>0</td>\n",
       "      <td>0</td>\n",
       "      <td>0</td>\n",
       "      <td>...</td>\n",
       "      <td>0</td>\n",
       "      <td>0</td>\n",
       "      <td>0</td>\n",
       "      <td>0</td>\n",
       "      <td>0</td>\n",
       "      <td>0</td>\n",
       "      <td>0</td>\n",
       "      <td>0</td>\n",
       "      <td>0</td>\n",
       "      <td>0</td>\n",
       "    </tr>\n",
       "    <tr>\n",
       "      <th>3</th>\n",
       "      <td>220.0</td>\n",
       "      <td>other</td>\n",
       "      <td>3</td>\n",
       "      <td>3</td>\n",
       "      <td>1905.757</td>\n",
       "      <td>0.115440</td>\n",
       "      <td>0</td>\n",
       "      <td>0</td>\n",
       "      <td>0</td>\n",
       "      <td>0</td>\n",
       "      <td>...</td>\n",
       "      <td>0</td>\n",
       "      <td>0</td>\n",
       "      <td>0</td>\n",
       "      <td>0</td>\n",
       "      <td>0</td>\n",
       "      <td>0</td>\n",
       "      <td>0</td>\n",
       "      <td>0</td>\n",
       "      <td>0</td>\n",
       "      <td>0</td>\n",
       "    </tr>\n",
       "    <tr>\n",
       "      <th>4</th>\n",
       "      <td>250.0</td>\n",
       "      <td>other</td>\n",
       "      <td>10</td>\n",
       "      <td>10</td>\n",
       "      <td>5445.000</td>\n",
       "      <td>0.045914</td>\n",
       "      <td>0</td>\n",
       "      <td>0</td>\n",
       "      <td>0</td>\n",
       "      <td>0</td>\n",
       "      <td>...</td>\n",
       "      <td>0</td>\n",
       "      <td>0</td>\n",
       "      <td>0</td>\n",
       "      <td>0</td>\n",
       "      <td>0</td>\n",
       "      <td>0</td>\n",
       "      <td>0</td>\n",
       "      <td>0</td>\n",
       "      <td>0</td>\n",
       "      <td>0</td>\n",
       "    </tr>\n",
       "    <tr>\n",
       "      <th>6</th>\n",
       "      <td>125.0</td>\n",
       "      <td>Abdullah Garden</td>\n",
       "      <td>4</td>\n",
       "      <td>3</td>\n",
       "      <td>1361.255</td>\n",
       "      <td>0.091827</td>\n",
       "      <td>1</td>\n",
       "      <td>0</td>\n",
       "      <td>0</td>\n",
       "      <td>0</td>\n",
       "      <td>...</td>\n",
       "      <td>0</td>\n",
       "      <td>0</td>\n",
       "      <td>0</td>\n",
       "      <td>0</td>\n",
       "      <td>0</td>\n",
       "      <td>0</td>\n",
       "      <td>0</td>\n",
       "      <td>0</td>\n",
       "      <td>0</td>\n",
       "      <td>0</td>\n",
       "    </tr>\n",
       "    <tr>\n",
       "      <th>7</th>\n",
       "      <td>145.0</td>\n",
       "      <td>Abdullah Garden</td>\n",
       "      <td>4</td>\n",
       "      <td>4</td>\n",
       "      <td>1905.757</td>\n",
       "      <td>0.076085</td>\n",
       "      <td>1</td>\n",
       "      <td>0</td>\n",
       "      <td>0</td>\n",
       "      <td>0</td>\n",
       "      <td>...</td>\n",
       "      <td>0</td>\n",
       "      <td>0</td>\n",
       "      <td>0</td>\n",
       "      <td>0</td>\n",
       "      <td>0</td>\n",
       "      <td>0</td>\n",
       "      <td>0</td>\n",
       "      <td>0</td>\n",
       "      <td>0</td>\n",
       "      <td>0</td>\n",
       "    </tr>\n",
       "  </tbody>\n",
       "</table>\n",
       "<p>5 rows × 80 columns</p>\n",
       "</div>"
      ],
      "text/plain": [
       "   price         location  baths  bedrooms  Total_Area  price_per_sqft  \\\n",
       "2  425.0            other      5         5    3267.012        0.130088   \n",
       "3  220.0            other      3         3    1905.757        0.115440   \n",
       "4  250.0            other     10        10    5445.000        0.045914   \n",
       "6  125.0  Abdullah Garden      4         3    1361.255        0.091827   \n",
       "7  145.0  Abdullah Garden      4         4    1905.757        0.076085   \n",
       "\n",
       "   Abdullah Garden  Ali Pur  Alipur Farash  Arsalan Town  ...  \\\n",
       "2                0        0              0             0  ...   \n",
       "3                0        0              0             0  ...   \n",
       "4                0        0              0             0  ...   \n",
       "6                1        0              0             0  ...   \n",
       "7                1        0              0             0  ...   \n",
       "\n",
       "   Shah Allah Ditta  Shaheen Town  Simly Dam Road  Soan Garden  Swan Garden  \\\n",
       "2                 0             0               0            0            0   \n",
       "3                 0             0               0            0            0   \n",
       "4                 0             0               0            0            0   \n",
       "6                 0             0               0            0            0   \n",
       "7                 0             0               0            0            0   \n",
       "\n",
       "   Taramrri  Tarlai  Tarnol  Thanda Pani  Zaraj Housing Scheme  \n",
       "2         0       0       0            0                     0  \n",
       "3         0       0       0            0                     0  \n",
       "4         0       0       0            0                     0  \n",
       "6         0       0       0            0                     0  \n",
       "7         0       0       0            0                     0  \n",
       "\n",
       "[5 rows x 80 columns]"
      ]
     },
     "execution_count": 110,
     "metadata": {},
     "output_type": "execute_result"
    }
   ],
   "source": [
    "df7 = pd.concat([df6, location_dummies.drop('other', axis = 'columns')], axis=\"columns\")\n",
    "df7.head()"
   ]
  },
  {
   "cell_type": "code",
   "execution_count": 111,
   "metadata": {},
   "outputs": [
    {
     "data": {
      "text/html": [
       "<div>\n",
       "<style scoped>\n",
       "    .dataframe tbody tr th:only-of-type {\n",
       "        vertical-align: middle;\n",
       "    }\n",
       "\n",
       "    .dataframe tbody tr th {\n",
       "        vertical-align: top;\n",
       "    }\n",
       "\n",
       "    .dataframe thead th {\n",
       "        text-align: right;\n",
       "    }\n",
       "</style>\n",
       "<table border=\"1\" class=\"dataframe\">\n",
       "  <thead>\n",
       "    <tr style=\"text-align: right;\">\n",
       "      <th></th>\n",
       "      <th>baths</th>\n",
       "      <th>bedrooms</th>\n",
       "      <th>Total_Area</th>\n",
       "      <th>Abdullah Garden</th>\n",
       "      <th>Ali Pur</th>\n",
       "      <th>Alipur Farash</th>\n",
       "      <th>Arsalan Town</th>\n",
       "      <th>B-17</th>\n",
       "      <th>Bani Gala</th>\n",
       "      <th>Bhara kahu</th>\n",
       "      <th>...</th>\n",
       "      <th>Shah Allah Ditta</th>\n",
       "      <th>Shaheen Town</th>\n",
       "      <th>Simly Dam Road</th>\n",
       "      <th>Soan Garden</th>\n",
       "      <th>Swan Garden</th>\n",
       "      <th>Taramrri</th>\n",
       "      <th>Tarlai</th>\n",
       "      <th>Tarnol</th>\n",
       "      <th>Thanda Pani</th>\n",
       "      <th>Zaraj Housing Scheme</th>\n",
       "    </tr>\n",
       "  </thead>\n",
       "  <tbody>\n",
       "    <tr>\n",
       "      <th>2</th>\n",
       "      <td>5</td>\n",
       "      <td>5</td>\n",
       "      <td>3267.012</td>\n",
       "      <td>0</td>\n",
       "      <td>0</td>\n",
       "      <td>0</td>\n",
       "      <td>0</td>\n",
       "      <td>0</td>\n",
       "      <td>0</td>\n",
       "      <td>0</td>\n",
       "      <td>...</td>\n",
       "      <td>0</td>\n",
       "      <td>0</td>\n",
       "      <td>0</td>\n",
       "      <td>0</td>\n",
       "      <td>0</td>\n",
       "      <td>0</td>\n",
       "      <td>0</td>\n",
       "      <td>0</td>\n",
       "      <td>0</td>\n",
       "      <td>0</td>\n",
       "    </tr>\n",
       "    <tr>\n",
       "      <th>3</th>\n",
       "      <td>3</td>\n",
       "      <td>3</td>\n",
       "      <td>1905.757</td>\n",
       "      <td>0</td>\n",
       "      <td>0</td>\n",
       "      <td>0</td>\n",
       "      <td>0</td>\n",
       "      <td>0</td>\n",
       "      <td>0</td>\n",
       "      <td>0</td>\n",
       "      <td>...</td>\n",
       "      <td>0</td>\n",
       "      <td>0</td>\n",
       "      <td>0</td>\n",
       "      <td>0</td>\n",
       "      <td>0</td>\n",
       "      <td>0</td>\n",
       "      <td>0</td>\n",
       "      <td>0</td>\n",
       "      <td>0</td>\n",
       "      <td>0</td>\n",
       "    </tr>\n",
       "    <tr>\n",
       "      <th>4</th>\n",
       "      <td>10</td>\n",
       "      <td>10</td>\n",
       "      <td>5445.000</td>\n",
       "      <td>0</td>\n",
       "      <td>0</td>\n",
       "      <td>0</td>\n",
       "      <td>0</td>\n",
       "      <td>0</td>\n",
       "      <td>0</td>\n",
       "      <td>0</td>\n",
       "      <td>...</td>\n",
       "      <td>0</td>\n",
       "      <td>0</td>\n",
       "      <td>0</td>\n",
       "      <td>0</td>\n",
       "      <td>0</td>\n",
       "      <td>0</td>\n",
       "      <td>0</td>\n",
       "      <td>0</td>\n",
       "      <td>0</td>\n",
       "      <td>0</td>\n",
       "    </tr>\n",
       "    <tr>\n",
       "      <th>6</th>\n",
       "      <td>4</td>\n",
       "      <td>3</td>\n",
       "      <td>1361.255</td>\n",
       "      <td>1</td>\n",
       "      <td>0</td>\n",
       "      <td>0</td>\n",
       "      <td>0</td>\n",
       "      <td>0</td>\n",
       "      <td>0</td>\n",
       "      <td>0</td>\n",
       "      <td>...</td>\n",
       "      <td>0</td>\n",
       "      <td>0</td>\n",
       "      <td>0</td>\n",
       "      <td>0</td>\n",
       "      <td>0</td>\n",
       "      <td>0</td>\n",
       "      <td>0</td>\n",
       "      <td>0</td>\n",
       "      <td>0</td>\n",
       "      <td>0</td>\n",
       "    </tr>\n",
       "    <tr>\n",
       "      <th>7</th>\n",
       "      <td>4</td>\n",
       "      <td>4</td>\n",
       "      <td>1905.757</td>\n",
       "      <td>1</td>\n",
       "      <td>0</td>\n",
       "      <td>0</td>\n",
       "      <td>0</td>\n",
       "      <td>0</td>\n",
       "      <td>0</td>\n",
       "      <td>0</td>\n",
       "      <td>...</td>\n",
       "      <td>0</td>\n",
       "      <td>0</td>\n",
       "      <td>0</td>\n",
       "      <td>0</td>\n",
       "      <td>0</td>\n",
       "      <td>0</td>\n",
       "      <td>0</td>\n",
       "      <td>0</td>\n",
       "      <td>0</td>\n",
       "      <td>0</td>\n",
       "    </tr>\n",
       "  </tbody>\n",
       "</table>\n",
       "<p>5 rows × 77 columns</p>\n",
       "</div>"
      ],
      "text/plain": [
       "   baths  bedrooms  Total_Area  Abdullah Garden  Ali Pur  Alipur Farash  \\\n",
       "2      5         5    3267.012                0        0              0   \n",
       "3      3         3    1905.757                0        0              0   \n",
       "4     10        10    5445.000                0        0              0   \n",
       "6      4         3    1361.255                1        0              0   \n",
       "7      4         4    1905.757                1        0              0   \n",
       "\n",
       "   Arsalan Town  B-17  Bani Gala  Bhara kahu  ...  Shah Allah Ditta  \\\n",
       "2             0     0          0           0  ...                 0   \n",
       "3             0     0          0           0  ...                 0   \n",
       "4             0     0          0           0  ...                 0   \n",
       "6             0     0          0           0  ...                 0   \n",
       "7             0     0          0           0  ...                 0   \n",
       "\n",
       "   Shaheen Town  Simly Dam Road  Soan Garden  Swan Garden  Taramrri  Tarlai  \\\n",
       "2             0               0            0            0         0       0   \n",
       "3             0               0            0            0         0       0   \n",
       "4             0               0            0            0         0       0   \n",
       "6             0               0            0            0         0       0   \n",
       "7             0               0            0            0         0       0   \n",
       "\n",
       "   Tarnol  Thanda Pani  Zaraj Housing Scheme  \n",
       "2       0            0                     0  \n",
       "3       0            0                     0  \n",
       "4       0            0                     0  \n",
       "6       0            0                     0  \n",
       "7       0            0                     0  \n",
       "\n",
       "[5 rows x 77 columns]"
      ]
     },
     "execution_count": 111,
     "metadata": {},
     "output_type": "execute_result"
    }
   ],
   "source": [
    "X = df7.drop(['price', 'location', 'price_per_sqft'], axis=\"columns\")\n",
    "X.head()"
   ]
  },
  {
   "cell_type": "code",
   "execution_count": 112,
   "metadata": {},
   "outputs": [
    {
     "data": {
      "text/plain": [
       "2    425.0\n",
       "3    220.0\n",
       "4    250.0\n",
       "6    125.0\n",
       "7    145.0\n",
       "Name: price, dtype: float64"
      ]
     },
     "execution_count": 112,
     "metadata": {},
     "output_type": "execute_result"
    }
   ],
   "source": [
    "y = df7.price\n",
    "y.head()"
   ]
  },
  {
   "cell_type": "code",
   "execution_count": 113,
   "metadata": {},
   "outputs": [],
   "source": [
    "from sklearn.model_selection import train_test_split\n",
    "X_train, X_test, y_train, y_test = train_test_split(X, y, test_size=0.2, random_state=10)"
   ]
  },
  {
   "cell_type": "code",
   "execution_count": 148,
   "metadata": {},
   "outputs": [
    {
     "data": {
      "text/plain": [
       "0.8244073597686135"
      ]
     },
     "execution_count": 148,
     "metadata": {},
     "output_type": "execute_result"
    }
   ],
   "source": [
    "from sklearn.linear_model import LinearRegression\n",
    "lr_clf = LinearRegression()\n",
    "lr_clf.fit(X_train, y_train)\n",
    "lr_clf.score(X_test, y_test)"
   ]
  },
  {
   "cell_type": "code",
   "execution_count": 149,
   "metadata": {},
   "outputs": [
    {
     "data": {
      "text/plain": [
       "array([0.62518716, 0.78817767, 0.80674007, 0.79604157, 0.80264032])"
      ]
     },
     "execution_count": 149,
     "metadata": {},
     "output_type": "execute_result"
    }
   ],
   "source": [
    "from sklearn.model_selection import ShuffleSplit\n",
    "from sklearn.model_selection import cross_val_score\n",
    "\n",
    "cv = ShuffleSplit(n_splits=5, test_size=0.2, random_state=0)\n",
    "cross_val_score(LinearRegression(), X, y, cv=cv)"
   ]
  },
  {
   "cell_type": "code",
   "execution_count": 150,
   "metadata": {},
   "outputs": [],
   "source": [
    "from sklearn.model_selection import GridSearchCV\n",
    "\n",
    "from sklearn.linear_model import Lasso\n",
    "from sklearn.tree import DecisionTreeRegressor\n",
    "\n",
    "\n",
    "cv = ShuffleSplit(n_splits=5, test_size=0.2, random_state=0)\n",
    "\n",
    "scores = []\n"
   ]
  },
  {
   "cell_type": "code",
   "execution_count": 117,
   "metadata": {},
   "outputs": [
    {
     "name": "stderr",
     "output_type": "stream",
     "text": [
      "c:\\Users\\ENVY\\AppData\\Local\\Programs\\Python\\Python310\\lib\\site-packages\\sklearn\\linear_model\\_base.py:141: FutureWarning: 'normalize' was deprecated in version 1.0 and will be removed in 1.2.\n",
      "If you wish to scale the data, use Pipeline with a StandardScaler in a preprocessing stage. To reproduce the previous behavior:\n",
      "\n",
      "from sklearn.pipeline import make_pipeline\n",
      "\n",
      "model = make_pipeline(StandardScaler(with_mean=False), LinearRegression())\n",
      "\n",
      "If you wish to pass a sample_weight parameter, you need to pass it as a fit parameter to each step of the pipeline as follows:\n",
      "\n",
      "kwargs = {s[0] + '__sample_weight': sample_weight for s in model.steps}\n",
      "model.fit(X, y, **kwargs)\n",
      "\n",
      "\n",
      "  warnings.warn(\n",
      "c:\\Users\\ENVY\\AppData\\Local\\Programs\\Python\\Python310\\lib\\site-packages\\sklearn\\linear_model\\_base.py:141: FutureWarning: 'normalize' was deprecated in version 1.0 and will be removed in 1.2.\n",
      "If you wish to scale the data, use Pipeline with a StandardScaler in a preprocessing stage. To reproduce the previous behavior:\n",
      "\n",
      "from sklearn.pipeline import make_pipeline\n",
      "\n",
      "model = make_pipeline(StandardScaler(with_mean=False), LinearRegression())\n",
      "\n",
      "If you wish to pass a sample_weight parameter, you need to pass it as a fit parameter to each step of the pipeline as follows:\n",
      "\n",
      "kwargs = {s[0] + '__sample_weight': sample_weight for s in model.steps}\n",
      "model.fit(X, y, **kwargs)\n",
      "\n",
      "\n",
      "  warnings.warn(\n",
      "c:\\Users\\ENVY\\AppData\\Local\\Programs\\Python\\Python310\\lib\\site-packages\\sklearn\\linear_model\\_base.py:141: FutureWarning: 'normalize' was deprecated in version 1.0 and will be removed in 1.2.\n",
      "If you wish to scale the data, use Pipeline with a StandardScaler in a preprocessing stage. To reproduce the previous behavior:\n",
      "\n",
      "from sklearn.pipeline import make_pipeline\n",
      "\n",
      "model = make_pipeline(StandardScaler(with_mean=False), LinearRegression())\n",
      "\n",
      "If you wish to pass a sample_weight parameter, you need to pass it as a fit parameter to each step of the pipeline as follows:\n",
      "\n",
      "kwargs = {s[0] + '__sample_weight': sample_weight for s in model.steps}\n",
      "model.fit(X, y, **kwargs)\n",
      "\n",
      "\n",
      "  warnings.warn(\n",
      "c:\\Users\\ENVY\\AppData\\Local\\Programs\\Python\\Python310\\lib\\site-packages\\sklearn\\linear_model\\_base.py:141: FutureWarning: 'normalize' was deprecated in version 1.0 and will be removed in 1.2.\n",
      "If you wish to scale the data, use Pipeline with a StandardScaler in a preprocessing stage. To reproduce the previous behavior:\n",
      "\n",
      "from sklearn.pipeline import make_pipeline\n",
      "\n",
      "model = make_pipeline(StandardScaler(with_mean=False), LinearRegression())\n",
      "\n",
      "If you wish to pass a sample_weight parameter, you need to pass it as a fit parameter to each step of the pipeline as follows:\n",
      "\n",
      "kwargs = {s[0] + '__sample_weight': sample_weight for s in model.steps}\n",
      "model.fit(X, y, **kwargs)\n",
      "\n",
      "\n",
      "  warnings.warn(\n",
      "c:\\Users\\ENVY\\AppData\\Local\\Programs\\Python\\Python310\\lib\\site-packages\\sklearn\\linear_model\\_base.py:141: FutureWarning: 'normalize' was deprecated in version 1.0 and will be removed in 1.2.\n",
      "If you wish to scale the data, use Pipeline with a StandardScaler in a preprocessing stage. To reproduce the previous behavior:\n",
      "\n",
      "from sklearn.pipeline import make_pipeline\n",
      "\n",
      "model = make_pipeline(StandardScaler(with_mean=False), LinearRegression())\n",
      "\n",
      "If you wish to pass a sample_weight parameter, you need to pass it as a fit parameter to each step of the pipeline as follows:\n",
      "\n",
      "kwargs = {s[0] + '__sample_weight': sample_weight for s in model.steps}\n",
      "model.fit(X, y, **kwargs)\n",
      "\n",
      "\n",
      "  warnings.warn(\n",
      "c:\\Users\\ENVY\\AppData\\Local\\Programs\\Python\\Python310\\lib\\site-packages\\sklearn\\linear_model\\_base.py:148: FutureWarning: 'normalize' was deprecated in version 1.0 and will be removed in 1.2. Please leave the normalize parameter to its default value to silence this warning. The default behavior of this estimator is to not do any normalization. If normalization is needed please use sklearn.preprocessing.StandardScaler instead.\n",
      "  warnings.warn(\n",
      "c:\\Users\\ENVY\\AppData\\Local\\Programs\\Python\\Python310\\lib\\site-packages\\sklearn\\linear_model\\_base.py:148: FutureWarning: 'normalize' was deprecated in version 1.0 and will be removed in 1.2. Please leave the normalize parameter to its default value to silence this warning. The default behavior of this estimator is to not do any normalization. If normalization is needed please use sklearn.preprocessing.StandardScaler instead.\n",
      "  warnings.warn(\n",
      "c:\\Users\\ENVY\\AppData\\Local\\Programs\\Python\\Python310\\lib\\site-packages\\sklearn\\linear_model\\_base.py:148: FutureWarning: 'normalize' was deprecated in version 1.0 and will be removed in 1.2. Please leave the normalize parameter to its default value to silence this warning. The default behavior of this estimator is to not do any normalization. If normalization is needed please use sklearn.preprocessing.StandardScaler instead.\n",
      "  warnings.warn(\n",
      "c:\\Users\\ENVY\\AppData\\Local\\Programs\\Python\\Python310\\lib\\site-packages\\sklearn\\linear_model\\_base.py:148: FutureWarning: 'normalize' was deprecated in version 1.0 and will be removed in 1.2. Please leave the normalize parameter to its default value to silence this warning. The default behavior of this estimator is to not do any normalization. If normalization is needed please use sklearn.preprocessing.StandardScaler instead.\n",
      "  warnings.warn(\n",
      "c:\\Users\\ENVY\\AppData\\Local\\Programs\\Python\\Python310\\lib\\site-packages\\sklearn\\linear_model\\_base.py:148: FutureWarning: 'normalize' was deprecated in version 1.0 and will be removed in 1.2. Please leave the normalize parameter to its default value to silence this warning. The default behavior of this estimator is to not do any normalization. If normalization is needed please use sklearn.preprocessing.StandardScaler instead.\n",
      "  warnings.warn(\n",
      "c:\\Users\\ENVY\\AppData\\Local\\Programs\\Python\\Python310\\lib\\site-packages\\sklearn\\linear_model\\_base.py:148: FutureWarning: 'normalize' was deprecated in version 1.0 and will be removed in 1.2. Please leave the normalize parameter to its default value to silence this warning. The default behavior of this estimator is to not do any normalization. If normalization is needed please use sklearn.preprocessing.StandardScaler instead.\n",
      "  warnings.warn(\n"
     ]
    }
   ],
   "source": [
    "model = {\n",
    "    'model': LinearRegression(),\n",
    "    'params': {'normalize': [True, False]}\n",
    "}\n",
    "\n",
    "gs =  GridSearchCV(model['model'], model['params'], cv=cv, return_train_score=False)\n",
    "gs.fit(X_train, y_train)\n",
    "scores.append({\n",
    "            'model': 'Linear Regression',\n",
    "            'best_score': gs.best_score_,\n",
    "            'best_params': gs.best_params_\n",
    "        })"
   ]
  },
  {
   "cell_type": "code",
   "execution_count": 118,
   "metadata": {},
   "outputs": [
    {
     "data": {
      "text/plain": [
       "[{'model': 'Linear Regression',\n",
       "  'best_score': 0.7593824918387078,\n",
       "  'best_params': {'normalize': False}}]"
      ]
     },
     "execution_count": 118,
     "metadata": {},
     "output_type": "execute_result"
    }
   ],
   "source": [
    "scores"
   ]
  },
  {
   "cell_type": "code",
   "execution_count": 119,
   "metadata": {},
   "outputs": [],
   "source": [
    "model = {\n",
    "    'model': Lasso(),\n",
    "    'params': {\n",
    "                'alpha': [1,2],\n",
    "                'selection': ['random', 'cyclic']\n",
    "            }\n",
    "}\n",
    "\n",
    "gs =  GridSearchCV(model['model'], model['params'], cv=cv, return_train_score=False)\n",
    "gs.fit(X_train, y_train)\n",
    "scores.append({\n",
    "            'model': 'Lasso',\n",
    "            'best_score': gs.best_score_,\n",
    "            'best_params': gs.best_params_\n",
    "        })"
   ]
  },
  {
   "cell_type": "code",
   "execution_count": 120,
   "metadata": {},
   "outputs": [
    {
     "name": "stderr",
     "output_type": "stream",
     "text": [
      "c:\\Users\\ENVY\\AppData\\Local\\Programs\\Python\\Python310\\lib\\site-packages\\sklearn\\tree\\_classes.py:397: FutureWarning: Criterion 'mse' was deprecated in v1.0 and will be removed in version 1.2. Use `criterion='squared_error'` which is equivalent.\n",
      "  warnings.warn(\n",
      "c:\\Users\\ENVY\\AppData\\Local\\Programs\\Python\\Python310\\lib\\site-packages\\sklearn\\tree\\_classes.py:397: FutureWarning: Criterion 'mse' was deprecated in v1.0 and will be removed in version 1.2. Use `criterion='squared_error'` which is equivalent.\n",
      "  warnings.warn(\n",
      "c:\\Users\\ENVY\\AppData\\Local\\Programs\\Python\\Python310\\lib\\site-packages\\sklearn\\tree\\_classes.py:397: FutureWarning: Criterion 'mse' was deprecated in v1.0 and will be removed in version 1.2. Use `criterion='squared_error'` which is equivalent.\n",
      "  warnings.warn(\n",
      "c:\\Users\\ENVY\\AppData\\Local\\Programs\\Python\\Python310\\lib\\site-packages\\sklearn\\tree\\_classes.py:397: FutureWarning: Criterion 'mse' was deprecated in v1.0 and will be removed in version 1.2. Use `criterion='squared_error'` which is equivalent.\n",
      "  warnings.warn(\n",
      "c:\\Users\\ENVY\\AppData\\Local\\Programs\\Python\\Python310\\lib\\site-packages\\sklearn\\tree\\_classes.py:397: FutureWarning: Criterion 'mse' was deprecated in v1.0 and will be removed in version 1.2. Use `criterion='squared_error'` which is equivalent.\n",
      "  warnings.warn(\n",
      "c:\\Users\\ENVY\\AppData\\Local\\Programs\\Python\\Python310\\lib\\site-packages\\sklearn\\tree\\_classes.py:397: FutureWarning: Criterion 'mse' was deprecated in v1.0 and will be removed in version 1.2. Use `criterion='squared_error'` which is equivalent.\n",
      "  warnings.warn(\n",
      "c:\\Users\\ENVY\\AppData\\Local\\Programs\\Python\\Python310\\lib\\site-packages\\sklearn\\tree\\_classes.py:397: FutureWarning: Criterion 'mse' was deprecated in v1.0 and will be removed in version 1.2. Use `criterion='squared_error'` which is equivalent.\n",
      "  warnings.warn(\n",
      "c:\\Users\\ENVY\\AppData\\Local\\Programs\\Python\\Python310\\lib\\site-packages\\sklearn\\tree\\_classes.py:397: FutureWarning: Criterion 'mse' was deprecated in v1.0 and will be removed in version 1.2. Use `criterion='squared_error'` which is equivalent.\n",
      "  warnings.warn(\n",
      "c:\\Users\\ENVY\\AppData\\Local\\Programs\\Python\\Python310\\lib\\site-packages\\sklearn\\tree\\_classes.py:397: FutureWarning: Criterion 'mse' was deprecated in v1.0 and will be removed in version 1.2. Use `criterion='squared_error'` which is equivalent.\n",
      "  warnings.warn(\n",
      "c:\\Users\\ENVY\\AppData\\Local\\Programs\\Python\\Python310\\lib\\site-packages\\sklearn\\tree\\_classes.py:397: FutureWarning: Criterion 'mse' was deprecated in v1.0 and will be removed in version 1.2. Use `criterion='squared_error'` which is equivalent.\n",
      "  warnings.warn(\n"
     ]
    }
   ],
   "source": [
    "model = {\n",
    "    'model': DecisionTreeRegressor(),\n",
    "    'params': {\n",
    "                'criterion' : ['mse','friedman_mse'],\n",
    "                'splitter': ['best','random']\n",
    "            }\n",
    "}\n",
    "\n",
    "gs =  GridSearchCV(model['model'], model['params'], cv=cv, return_train_score=False)\n",
    "gs.fit(X_train, y_train)\n",
    "scores.append({\n",
    "            'model': 'Decision Tree Regressor',\n",
    "            'best_score': gs.best_score_,\n",
    "            'best_params': gs.best_params_\n",
    "        })"
   ]
  },
  {
   "cell_type": "code",
   "execution_count": 121,
   "metadata": {},
   "outputs": [
    {
     "data": {
      "text/plain": [
       "[{'model': 'Linear Regression',\n",
       "  'best_score': 0.7593824918387078,\n",
       "  'best_params': {'normalize': False}},\n",
       " {'model': 'Lasso',\n",
       "  'best_score': 0.7375011837454648,\n",
       "  'best_params': {'alpha': 1, 'selection': 'random'}},\n",
       " {'model': 'Decision Tree Regressor',\n",
       "  'best_score': 0.8547458275882593,\n",
       "  'best_params': {'criterion': 'friedman_mse', 'splitter': 'best'}}]"
      ]
     },
     "execution_count": 121,
     "metadata": {},
     "output_type": "execute_result"
    }
   ],
   "source": [
    "scores"
   ]
  },
  {
   "cell_type": "code",
   "execution_count": 123,
   "metadata": {},
   "outputs": [
    {
     "data": {
      "text/plain": [
       "0.8614629114136023"
      ]
     },
     "execution_count": 123,
     "metadata": {},
     "output_type": "execute_result"
    }
   ],
   "source": [
    "dtr = DecisionTreeRegressor(criterion='friedman_mse', splitter='best')\n",
    "\n",
    "dtr.fit(X_train, y_train)\n",
    "dtr.score(X_test, y_test)"
   ]
  },
  {
   "cell_type": "code",
   "execution_count": 153,
   "metadata": {},
   "outputs": [
    {
     "data": {
      "text/plain": [
       "Index(['baths', 'bedrooms', 'Total_Area', 'Abdullah Garden', 'Ali Pur',\n",
       "       'Alipur Farash', 'Arsalan Town', 'B-17', 'Bani Gala', 'Bhara kahu',\n",
       "       'Burma Town', 'CBR Town', 'Chatha Bakhtawar', 'D-12', 'D-17',\n",
       "       'DHA Defence', 'E-11', 'E-7', 'Emaar Canyon Views', 'F-10', 'F-11',\n",
       "       'F-15', 'F-17', 'F-6', 'F-7', 'F-8', 'FECHS', 'Faisal Town - F-18',\n",
       "       'G-10', 'G-11', 'G-13', 'G-14', 'G-15', 'G-6', 'G-8', 'G-9',\n",
       "       'Garden Town', 'Ghauri Town', 'Green Avenue', 'Gulberg', 'H-13', 'I-13',\n",
       "       'I-14', 'I-8', 'I-9', 'Islamabad - Murree Expressway',\n",
       "       'Islamabad Expressway', 'Islamabad Highway', 'Jhang Syedan',\n",
       "       'Jhangi Syedan', 'Kashmir Highway', 'Khanna Pul', 'Koral Chowk',\n",
       "       'Korang Town', 'Kuri Road', 'Lehtarar Road', 'Madina Town',\n",
       "       'Margalla Town', 'Marwa Town', 'National Police Foundation',\n",
       "       'National Police Foundation O-9', 'Naval Anchorage',\n",
       "       'PWD Housing Scheme', 'PWD Road', 'Pakistan Town', 'Park Road',\n",
       "       'Park View City', 'Shah Allah Ditta', 'Shaheen Town', 'Simly Dam Road',\n",
       "       'Soan Garden', 'Swan Garden', 'Taramrri', 'Tarlai', 'Tarnol',\n",
       "       'Thanda Pani', 'Zaraj Housing Scheme'],\n",
       "      dtype='object')"
      ]
     },
     "execution_count": 153,
     "metadata": {},
     "output_type": "execute_result"
    }
   ],
   "source": [
    "X.columns"
   ]
  },
  {
   "cell_type": "code",
   "execution_count": 195,
   "metadata": {},
   "outputs": [],
   "source": [
    "def predict_price(location,sqft,bath,bed):    \n",
    "    loc_index = np.where(X.columns==location)[0][0]\n",
    "\n",
    "    x = np.zeros(len(X.columns))\n",
    "    x[0] = bath\n",
    "    x[1] = bed\n",
    "    x[2] = sqft\n",
    "    if loc_index >= 0:\n",
    "        x[loc_index] = 1\n",
    "\n",
    "    return dtr.predict([x])[0]"
   ]
  },
  {
   "cell_type": "code",
   "execution_count": 196,
   "metadata": {},
   "outputs": [
    {
     "name": "stderr",
     "output_type": "stream",
     "text": [
      "c:\\Users\\ENVY\\AppData\\Local\\Programs\\Python\\Python310\\lib\\site-packages\\sklearn\\base.py:450: UserWarning: X does not have valid feature names, but DecisionTreeRegressor was fitted with feature names\n",
      "  warnings.warn(\n"
     ]
    },
    {
     "data": {
      "text/plain": [
       "50.83"
      ]
     },
     "execution_count": 196,
     "metadata": {},
     "output_type": "execute_result"
    }
   ],
   "source": [
    "predict_price('Bani Gala', 1000, 2, 2)"
   ]
  },
  {
   "cell_type": "code",
   "execution_count": 197,
   "metadata": {},
   "outputs": [
    {
     "name": "stderr",
     "output_type": "stream",
     "text": [
      "c:\\Users\\ENVY\\AppData\\Local\\Programs\\Python\\Python310\\lib\\site-packages\\sklearn\\base.py:450: UserWarning: X does not have valid feature names, but DecisionTreeRegressor was fitted with feature names\n",
      "  warnings.warn(\n"
     ]
    },
    {
     "data": {
      "text/plain": [
       "130.0"
      ]
     },
     "execution_count": 197,
     "metadata": {},
     "output_type": "execute_result"
    }
   ],
   "source": [
    "predict_price('Bani Gala', 2000, 3, 5)"
   ]
  },
  {
   "cell_type": "code",
   "execution_count": 198,
   "metadata": {},
   "outputs": [
    {
     "name": "stderr",
     "output_type": "stream",
     "text": [
      "c:\\Users\\ENVY\\AppData\\Local\\Programs\\Python\\Python310\\lib\\site-packages\\sklearn\\base.py:450: UserWarning: X does not have valid feature names, but DecisionTreeRegressor was fitted with feature names\n",
      "  warnings.warn(\n"
     ]
    },
    {
     "data": {
      "text/plain": [
       "50.83"
      ]
     },
     "execution_count": 198,
     "metadata": {},
     "output_type": "execute_result"
    }
   ],
   "source": [
    "predict_price('Shah Allah Ditta',1000, 2, 2)"
   ]
  },
  {
   "cell_type": "code",
   "execution_count": 201,
   "metadata": {},
   "outputs": [
    {
     "name": "stderr",
     "output_type": "stream",
     "text": [
      "c:\\Users\\ENVY\\AppData\\Local\\Programs\\Python\\Python310\\lib\\site-packages\\sklearn\\base.py:450: UserWarning: X does not have valid feature names, but DecisionTreeRegressor was fitted with feature names\n",
      "  warnings.warn(\n"
     ]
    },
    {
     "data": {
      "text/plain": [
       "51.0"
      ]
     },
     "execution_count": 201,
     "metadata": {},
     "output_type": "execute_result"
    }
   ],
   "source": [
    "predict_price('Shah Allah Ditta',1000, 3, 5)"
   ]
  },
  {
   "cell_type": "code",
   "execution_count": 202,
   "metadata": {},
   "outputs": [
    {
     "name": "stderr",
     "output_type": "stream",
     "text": [
      "c:\\Users\\ENVY\\AppData\\Local\\Programs\\Python\\Python310\\lib\\site-packages\\sklearn\\base.py:450: UserWarning: X does not have valid feature names, but DecisionTreeRegressor was fitted with feature names\n",
      "  warnings.warn(\n"
     ]
    },
    {
     "data": {
      "text/plain": [
       "36.0"
      ]
     },
     "execution_count": 202,
     "metadata": {},
     "output_type": "execute_result"
    }
   ],
   "source": [
    "predict_price('Ali Pur',1000, 2, 2)"
   ]
  },
  {
   "cell_type": "code",
   "execution_count": 203,
   "metadata": {},
   "outputs": [
    {
     "name": "stderr",
     "output_type": "stream",
     "text": [
      "c:\\Users\\ENVY\\AppData\\Local\\Programs\\Python\\Python310\\lib\\site-packages\\sklearn\\base.py:450: UserWarning: X does not have valid feature names, but DecisionTreeRegressor was fitted with feature names\n",
      "  warnings.warn(\n"
     ]
    },
    {
     "data": {
      "text/plain": [
       "50.83"
      ]
     },
     "execution_count": 203,
     "metadata": {},
     "output_type": "execute_result"
    }
   ],
   "source": [
    "predict_price('Shah Allah Ditta',1000, 2, 2)"
   ]
  },
  {
   "cell_type": "code",
   "execution_count": 204,
   "metadata": {},
   "outputs": [],
   "source": [
    "import pickle\n",
    "with open('islamabad_home_prices_model.pickle','wb') as f:\n",
    "    pickle.dump(dtr,f)"
   ]
  },
  {
   "cell_type": "code",
   "execution_count": 205,
   "metadata": {},
   "outputs": [],
   "source": [
    "import json\n",
    "columns = {\n",
    "    'data_columns' : [col.lower() for col in X.columns]\n",
    "}\n",
    "with open(\"columns.json\",\"w\") as f:\n",
    "    f.write(json.dumps(columns))"
   ]
  }
 ],
 "metadata": {
  "kernelspec": {
   "display_name": "Python 3.10.7 64-bit",
   "language": "python",
   "name": "python3"
  },
  "language_info": {
   "codemirror_mode": {
    "name": "ipython",
    "version": 3
   },
   "file_extension": ".py",
   "mimetype": "text/x-python",
   "name": "python",
   "nbconvert_exporter": "python",
   "pygments_lexer": "ipython3",
   "version": "3.10.7"
  },
  "orig_nbformat": 4,
  "vscode": {
   "interpreter": {
    "hash": "84bf09232f4816617192c76b859fe0d661a8c2f547a7d4459f14da47e7b36af6"
   }
  }
 },
 "nbformat": 4,
 "nbformat_minor": 2
}
